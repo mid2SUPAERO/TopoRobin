{
 "cells": [
  {
   "cell_type": "code",
   "execution_count": 29,
   "metadata": {},
   "outputs": [
    {
     "data": {
      "text/plain": [
       "top88mma (generic function with 5 methods)"
      ]
     },
     "execution_count": 29,
     "metadata": {},
     "output_type": "execute_result"
    }
   ],
   "source": [
    "using SparseArrays\n",
    "using LinearAlgebra\n",
    "using Statistics\n",
    "using SuiteSparse\n",
    "using Plots\n",
    "E0 = 1;\n",
    "Emin = 1e-9;\n",
    "nu = 0.3;\n",
    "using JuMP\n",
    "using NLopt\n",
    "using GLPK\n",
    "using Optim\n",
    "function top88mma(nelx,nely,volfrac=0.5,penal=3,rmin=2.5,ft=1)\n",
    "        \n",
    "    A11 = [12  3 -6 -3;  3 12  3  0; -6  3 12 -3; -3  0 -3 12]\n",
    "    A12 = [-6 -3  0  3; -3 -6 -3 -6;  0 -3 -6  3;  3 -6  3 -6]\n",
    "    B11 = [-4  3 -2  9;  3 -4 -9  4; -2 -9 -4 -3;  9  4 -3 -4]\n",
    "    B12 = [ 2 -3  4 -9; -3  2  9 -2;  4  9  2  3; -9 -2  3  2]\n",
    "    KE = 1/(1-nu^2)/24*([A11 A12;A12' A11]+nu*[B11 B12;B12' B11])\n",
    "\n",
    "    nodenrs = reshape(1:(1+nelx)*(1+nely),1+nely,1+nelx); #number of the nodes in columns\n",
    "    edofVec = reshape(2*nodenrs[1:end-1,1:end-1].+1,nelx*nely,1) ;#1st dof of each element (x top left)\n",
    "    edofMat = zeros(nelx*nely, 8); #every line i contains the 8 dof of the ith element\n",
    "    noeudsvoisins = [0 1 2*nely.+[2 3 0 1] -2 -1];\n",
    "    for i = 1:8\n",
    "        for j = 1:nelx*nely\n",
    "            edofMat[j,i]= edofVec[j]+ noeudsvoisins[i] ;\n",
    "        end\n",
    "    end\n",
    "    iK = reshape(kron(edofMat,ones(8,1))',64*nelx*nely,1);# line to build  K\n",
    "    jK = reshape(kron(edofMat,ones(1,8))',64*nelx*nely,1);# columns\n",
    "    F = spzeros(2*(nely+1)*(nelx+1),1); F[2,1] = -1;\n",
    "    U = zeros(2*(nely+1)*(nelx+1),1);\n",
    "    fixeddofs = union(1:2:2*(nely+1),[2*(nelx+1)*(nely+1)]);\n",
    "    alldofs = 1:2*(nely+1)*(nelx+1);\n",
    "    freedofs = setdiff(alldofs,fixeddofs);\n",
    "    iH = ones(nelx*nely*(2*(convert(Int64,ceil(rmin))-1)+1)^2);#lines H\n",
    "    jH = ones(size(iH));# columns\n",
    "    sH = zeros(size(iH));# values\n",
    "    k = 0;\n",
    "    xnew = zeros(nely,nelx)\n",
    "    for i1 = 1:nelx\n",
    "        for j1 = 1:nely\n",
    "            e1 = (i1-1)*nely+j1;\n",
    "            for i2 = max(i1-(ceil(rmin)-1),1):min(i1+(ceil(rmin)-1),nelx)\n",
    "                for j2 = max(j1-(ceil(rmin)-1),1):min(j1+(ceil(rmin)-1),nely)\n",
    "                    e2 = (i2-1)*nely+j2;\n",
    "                    k = k+1;\n",
    "                    iH[k] = e1;\n",
    "                    jH[k] = e2;\n",
    "                    sH[k] = max(0,rmin-sqrt((i1-i2)^2+(j1-j2)^2));\n",
    "                end\n",
    "            end\n",
    "        end\n",
    "    end\n",
    "    H = sparse(iH,jH,sH);# matrix of the Hei\n",
    "    Hs = [sum(H[i,:]) for i = 1:(size(H)[1])];# sum of the Hei for e fixed -> coeffs used to divide in the filter\n",
    "    x = volfrac*ones(nely,nelx);\n",
    "    xPhys = x;#directly modified in args of mma ? semble inutile avec JuMP\n",
    "    loop = 0;\n",
    "    change = 1;\n",
    "    while change > 0.01\n",
    "        loop = loop + 1;\n",
    "        sK = [j*((i+Emin)^penal) for i in ((E0-Emin)*xPhys[:]') for j in KE[:] ];#new values EF\n",
    "        K = sparse(iK[:],jK[:],sK); K = (K+K')/2;# force to be symmetric\n",
    "        KK = cholesky(K[freedofs,freedofs]);\n",
    "        U[freedofs] = KK\\(KK'\\F[freedofs]);\n",
    "        \n",
    "        edM = [convert(Int64,i) for i in edofMat] ;#to index by int\n",
    "        mat = (U[edM]*KE).*U[edM];\n",
    "        ce = reshape([sum(mat[i,:]) for i = 1:(size(mat)[1])],nely,nelx);\n",
    "        c = sum(sum((Emin*ones(size(xPhys)).+(xPhys.^penal)*(E0-Emin)).*ce));\n",
    "        dc = -penal*(E0-Emin)*xPhys.^(penal-1).*ce;\n",
    "        dv = ones(nely,nelx);\n",
    "        \n",
    "        #m = Model(solver=NLoptSolver(algorithm=:LD_MMA))\n",
    "        m = Model(with_optimizer(GLPK.Optimizer))\n",
    "        @variable(m, 0.001<=x1[1:nelx*nely]<=1)\n",
    "        \"\"\"\n",
    "        for i = 1:nelx*nely\n",
    "            setvalue(x1[i],x[i])\n",
    "        end\n",
    "        \"\"\"\n",
    "        @NLconstraint(m, sum(x1[i] for i in 1:nelx*nely) <= volfrac*nelx*nely)\n",
    "        \"\"\"\n",
    "        if ft == 1\n",
    "            dc[:] = H*(x[:].*dc[:])./Hs./max(1e-3,maximum(x[:]));\n",
    "            function f1(x)\n",
    "                sum(sum((Emin*ones(size(x)).+(x.^penal)*(E0-Emin)).*ce))\n",
    "            end\n",
    "\n",
    "            function f(x, grad)\n",
    "                if length(grad) > 0\n",
    "                    grad[:]=H*(x[:].*dc[:])./Hs./max(1e-3,maximum(x[:])); #utiliser automatic differentaion après\n",
    "                end\n",
    "                return sum(sum((Emin*ones(size(x)).+(x.^penal)*(E0-Emin)).*ce));\n",
    "            end\n",
    "\n",
    "            @objective(m, Max, f1)\n",
    "        elseif ft == 2\n",
    "\n",
    "            function f(x, grad)\n",
    "                if length(grad) > 0\n",
    "                    grad[:]=H*(x[:].*dc[:])./Hs\n",
    "                end\n",
    "                return sum(sum((Emin*ones(size(x)).+(x.^penal)*(E0-Emin)).*ce));\n",
    "            end\n",
    "\n",
    "\n",
    "            #dv[:] = H*(dv[:]./Hs);# useless here ?\n",
    "        end\n",
    "        \"\"\"\n",
    "\n",
    "        @objective(m, Max, sum(sum((Emin*ones(size(x)).+(x.^penal)*(E0-Emin)).*ce)))\n",
    "        optimize!(m)\n",
    "        xnew = value.(x1)\n",
    "        change = maximum(abs.(x-xnew));\n",
    "        x = xnew ;\n",
    "        println(\"loop = \", loop, \"Change = \", change ,\" c = \", c , \" densité struct = \", mean(x) )\n",
    "        heatmap(x)\n",
    "        if loop == 30\n",
    "            return heatmap(x)\n",
    "        end\n",
    "    end\n",
    "    return heatmap(x)\n",
    "end"
   ]
  },
  {
   "cell_type": "code",
   "execution_count": 30,
   "metadata": {},
   "outputs": [
    {
     "name": "stderr",
     "output_type": "stream",
     "text": [
      "┌ Warning: `with_optimizer` is deprecated. Adapt the following example to update your code:\n",
      "│ `with_optimizer(Ipopt.Optimizer)` becomes `Ipopt.Optimizer`.\n",
      "│   caller = top88mma(::Int64, ::Int64, ::Float64, ::Int64, ::Float64, ::Int64) at In[29]:77\n",
      "└ @ Main .\\In[29]:77\n"
     ]
    },
    {
     "ename": "UndefVarError",
     "evalue": "UndefVarError: optimize! not defined",
     "output_type": "error",
     "traceback": [
      "UndefVarError: optimize! not defined",
      "",
      "Stacktrace:",
      " [1] top88mma(::Int64, ::Int64, ::Float64, ::Int64, ::Float64, ::Int64) at .\\In[29]:115",
      " [2] top-level scope at In[30]:1"
     ]
    }
   ],
   "source": [
    "top88mma(20,10,0.5,3,2.5,1)"
   ]
  },
  {
   "cell_type": "code",
   "execution_count": 20,
   "metadata": {},
   "outputs": [
    {
     "name": "stderr",
     "output_type": "stream",
     "text": [
      "\u001b[32m\u001b[1m   Updating\u001b[22m\u001b[39m registry at `C:\\Users\\robin\\.julia\\registries\\General`\n",
      "\u001b[32m\u001b[1m   Updating\u001b[22m\u001b[39m git-repo `https://github.com/JuliaRegistries/General.git`\n"
     ]
    },
    {
     "name": "stdout",
     "output_type": "stream",
     "text": [
      "\u001b[2K\u001b[?25h[1mFetching:\u001b[22m\u001b[39m [========================================>]  100.0 %.0 %                                  ]  12.9 %.3 %                            ]  27.7 %>                        ]  39.1 %                    ]  48.0 %\u001b[36m\u001b[1mFetching:\u001b[22m\u001b[39m [=======================>                 ]  56.0 %===============================>         ]  76.0 %\u001b[36m\u001b[1mFetching:\u001b[22m\u001b[39m [===================================>     ]  87.4 %> ]  97.1 %"
     ]
    },
    {
     "name": "stderr",
     "output_type": "stream",
     "text": [
      "\u001b[32m\u001b[1m  Resolving\u001b[22m\u001b[39m package versions...\n",
      "\u001b[32m\u001b[1m  Installed\u001b[22m\u001b[39m PositiveFactorizations ─ v0.2.3\n",
      "\u001b[32m\u001b[1m  Installed\u001b[22m\u001b[39m Compat ───────────────── v3.8.0\n",
      "\u001b[32m\u001b[1m  Installed\u001b[22m\u001b[39m FillArrays ───────────── v0.8.6\n",
      "\u001b[32m\u001b[1m  Installed\u001b[22m\u001b[39m NLSolversBase ────────── v7.6.1\n",
      "\u001b[32m\u001b[1m  Installed\u001b[22m\u001b[39m ArrayInterface ───────── v2.6.2\n",
      "\u001b[32m\u001b[1m  Installed\u001b[22m\u001b[39m FiniteDiff ───────────── v2.3.0\n",
      "\u001b[32m\u001b[1m  Installed\u001b[22m\u001b[39m LineSearches ─────────── v7.0.1\n",
      "\u001b[32m\u001b[1m  Installed\u001b[22m\u001b[39m Optim ────────────────── v0.20.5\n",
      "\u001b[32m\u001b[1m   Updating\u001b[22m\u001b[39m `C:\\Users\\robin\\.julia\\environments\\v1.4\\Project.toml`\n",
      " \u001b[90m [429524aa]\u001b[39m\u001b[92m + Optim v0.20.5\u001b[39m\n",
      "\u001b[32m\u001b[1m   Updating\u001b[22m\u001b[39m `C:\\Users\\robin\\.julia\\environments\\v1.4\\Manifest.toml`\n",
      " \u001b[90m [4fba245c]\u001b[39m\u001b[92m + ArrayInterface v2.6.2\u001b[39m\n",
      " \u001b[90m [34da2185]\u001b[39m\u001b[92m + Compat v3.8.0\u001b[39m\n",
      " \u001b[90m [1a297f60]\u001b[39m\u001b[92m + FillArrays v0.8.6\u001b[39m\n",
      " \u001b[90m [6a86dc24]\u001b[39m\u001b[92m + FiniteDiff v2.3.0\u001b[39m\n",
      " \u001b[90m [d3d80556]\u001b[39m\u001b[92m + LineSearches v7.0.1\u001b[39m\n",
      " \u001b[90m [d41bc354]\u001b[39m\u001b[92m + NLSolversBase v7.6.1\u001b[39m\n",
      " \u001b[90m [429524aa]\u001b[39m\u001b[92m + Optim v0.20.5\u001b[39m\n",
      " \u001b[90m [85a6dd25]\u001b[39m\u001b[92m + PositiveFactorizations v0.2.3\u001b[39m\n",
      " \u001b[90m [1a1011a3]\u001b[39m\u001b[92m + SharedArrays \u001b[39m\n"
     ]
    }
   ],
   "source": [
    "import Pkg\n",
    "Pkg.add(\"Optim\")"
   ]
  }
 ],
 "metadata": {
  "kernelspec": {
   "display_name": "Julia 1.4.0",
   "language": "julia",
   "name": "julia-1.4"
  },
  "language_info": {
   "file_extension": ".jl",
   "mimetype": "application/julia",
   "name": "julia",
   "version": "1.4.0"
  }
 },
 "nbformat": 4,
 "nbformat_minor": 4
}

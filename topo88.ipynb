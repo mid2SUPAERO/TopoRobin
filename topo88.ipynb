{
 "cells": [
  {
   "cell_type": "code",
   "execution_count": 1,
   "metadata": {},
   "outputs": [],
   "source": [
    "# code optimisation topologique topo88\n",
    "#chanement tst"
   ]
  },
  {
   "cell_type": "code",
   "execution_count": 21,
   "metadata": {},
   "outputs": [
    {
     "data": {
      "text/plain": [
       "8×8 Array{Float64,2}:\n",
       "  0.494505    0.178571   -0.302198   …  -0.178571    0.0549451   0.0137363\n",
       "  0.178571    0.494505    0.0137363     -0.247253   -0.0137363  -0.302198 \n",
       " -0.302198    0.0137363   0.494505      -0.0137363  -0.247253    0.178571 \n",
       " -0.0137363   0.0549451  -0.178571      -0.302198    0.178571   -0.247253 \n",
       " -0.247253   -0.178571    0.0549451      0.178571   -0.302198   -0.0137363\n",
       " -0.178571   -0.247253   -0.0137363  …   0.494505    0.0137363   0.0549451\n",
       "  0.0549451  -0.0137363  -0.247253       0.0137363   0.494505   -0.178571 \n",
       "  0.0137363  -0.302198    0.178571       0.0549451  -0.178571    0.494505 "
      ]
     },
     "execution_count": 21,
     "metadata": {},
     "output_type": "execute_result"
    }
   ],
   "source": [
    "E0 = 1;\n",
    "Emin = 1e-9;\n",
    "nu = 0.3;\n",
    "A11 = [12  3 -6 -3;  3 12  3  0; -6  3 12 -3; -3  0 -3 12]\n",
    "A12 = [-6 -3  0  3; -3 -6 -3 -6;  0 -3 -6  3;  3 -6  3 -6]\n",
    "B11 = [-4  3 -2  9;  3 -4 -9  4; -2 -9 -4 -3;  9  4 -3 -4]\n",
    "B12 = [ 2 -3  4 -9; -3  2  9 -2;  4  9  2  3; -9 -2  3  2]\n",
    "KE = 1/(1-nu^2)/24*([A11 A12;A12' A11]+nu*[B11 B12;B12' B11])"
   ]
  },
  {
   "cell_type": "code",
   "execution_count": 12,
   "metadata": {},
   "outputs": [
    {
     "data": {
      "text/plain": [
       "top88 (generic function with 1 method)"
      ]
     },
     "execution_count": 12,
     "metadata": {},
     "output_type": "execute_result"
    }
   ],
   "source": [
    "function top88(nelx,nely,volfrac,penal,rmin,ft)\n",
    "\n",
    "    nodenrs = reshape(1:(1+nelx)*(1+nely),1+nely,1+nelx); #numeros des noeuds par ligne\n",
    "    edofVec = reshape(2*nodenrs[1:end-1,1:end-1].+1,nelx*nely,1) ;#nddl impairs sauf 1 et les derniers \n",
    "    #edofMat = repmat(edofVec,1,8)+repmat([0 1 2*nely+[2 3 0 1] -2 -1],nelx*nely,1);\n",
    "    return repmat(edofVec,1,8)\n",
    "end"
   ]
  },
  {
   "cell_type": "code",
   "execution_count": 13,
   "metadata": {},
   "outputs": [
    {
     "ename": "UndefVarError",
     "evalue": "UndefVarError: repmat not defined",
     "output_type": "error",
     "traceback": [
      "UndefVarError: repmat not defined",
      "",
      "Stacktrace:",
      " [1] top88(::Int64, ::Int64, ::Float64, ::Int64, ::Int64, ::Int64) at .\\In[12]:6",
      " [2] top-level scope at In[13]:1"
     ]
    }
   ],
   "source": [
    "top88(3,5,0.25, 3,2, 1)"
   ]
  },
  {
   "cell_type": "code",
   "execution_count": 1,
   "metadata": {},
   "outputs": [
    {
     "data": {
      "text/plain": [
       "5×1 reshape(::UnitRange{Int64}, 5, 1) with eltype Int64:\n",
       " 1\n",
       " 2\n",
       " 3\n",
       " 4\n",
       " 5"
      ]
     },
     "execution_count": 1,
     "metadata": {},
     "output_type": "execute_result"
    }
   ],
   "source": [
    "x = 1:5;\n",
    "x[2];\n",
    "reshape(x,5,1)"
   ]
  },
  {
   "cell_type": "code",
   "execution_count": 14,
   "metadata": {},
   "outputs": [
    {
     "ename": "MethodError",
     "evalue": "MethodError: objects of type Array{Int64,2} are not callable\nUse square brackets [] for indexing an Array.",
     "output_type": "error",
     "traceback": [
      "MethodError: objects of type Array{Int64,2} are not callable\nUse square brackets [] for indexing an Array.",
      "",
      "Stacktrace:",
      " [1] mapreduce_first(::Array{Int64,2}, ::Function, ::Int64) at .\\reduce.jl:293",
      " [2] mapreduce_impl(::Array{Int64,2}, ::typeof(max), ::Array{Int64,2}, ::Int64, ::Int64) at .\\reduce.jl:474",
      " [3] _mapreduce(::Array{Int64,2}, ::typeof(max), ::IndexLinear, ::Array{Int64,2}) at .\\reduce.jl:316",
      " [4] _mapreduce_dim(::Array{Int64,2}, ::Function, ::NamedTuple{(),Tuple{}}, ::Array{Int64,2}, ::Colon) at .\\reducedim.jl:312",
      " [5] #mapreduce#584(::Function, ::Base.Iterators.Pairs{Union{},Union{},Tuple{},NamedTuple{(),Tuple{}}}, ::typeof(mapreduce), ::Array{Int64,2}, ::Function, ::Array{Int64,2}) at .\\reducedim.jl:307",
      " [6] mapreduce(::Array{Int64,2}, ::Function, ::Array{Int64,2}) at .\\reducedim.jl:307",
      " [7] _maximum(::Array{Int64,2}, ::Array{Int64,2}, ::Colon) at .\\reducedim.jl:657",
      " [8] #maximum#592 at .\\reducedim.jl:653 [inlined]",
      " [9] maximum(::Array{Int64,2}, ::Array{Int64,2}) at .\\reducedim.jl:653",
      " [10] top-level scope at In[14]:4"
     ]
    },
    {
     "name": "stdout",
     "output_type": "stream",
     "text": [
      "[3 6 1 4 4; 10 1 0 10 0; 5 2 6 9 0; 9 0 8 6 8; 6 7 7 8 10][4 5 4 3 6; 4 0 8 10 4; 4 0 5 7 4; 8 6 6 0 8; 0 8 6 10 4]\n"
     ]
    }
   ],
   "source": [
    "A = rand(0:10,5,5)\n",
    "B = rand(0:10,5,5)\n",
    "println(A,B)\n",
    "maximum(A,B)"
   ]
  },
  {
   "cell_type": "code",
   "execution_count": null,
   "metadata": {},
   "outputs": [],
   "source": [
    "%%%% AN 88 LINE TOPOLOGY OPTIMIZATION CODE Nov, 2010 %%%%\n",
    "function top88(nelx,nely,volfrac,penal,rmin,ft)\n",
    "%% MATERIAL PROPERTIES\n",
    "E0 = 1;\n",
    "Emin = 1e-9;\n",
    "nu = 0.3;\n",
    "%% PREPARE FINITE ELEMENT ANALYSIS\n",
    "A11 = [12  3 -6 -3;  3 12  3  0; -6  3 12 -3; -3  0 -3 12];\n",
    "A12 = [-6 -3  0  3; -3 -6 -3 -6;  0 -3 -6  3;  3 -6  3 -6];\n",
    "B11 = [-4  3 -2  9;  3 -4 -9  4; -2 -9 -4 -3;  9  4 -3 -4];\n",
    "B12 = [ 2 -3  4 -9; -3  2  9 -2;  4  9  2  3; -9 -2  3  2];\n",
    "KE = 1/(1-nu^2)/24*([A11 A12;A12' A11]+nu*[B11 B12;B12' B11]);\n",
    "nodenrs = reshape(1:(1+nelx)*(1+nely),1+nely,1+nelx);\n",
    "edofVec = reshape(2*nodenrs(1:end-1,1:end-1)+1,nelx*nely,1);\n",
    "edofMat = repmat(edofVec,1,8)+repmat([0 1 2*nely+[2 3 0 1] -2 -1],nelx*nely,1);\n",
    "iK = reshape(kron(edofMat,ones(8,1))',64*nelx*nely,1);\n",
    "jK = reshape(kron(edofMat,ones(1,8))',64*nelx*nely,1);\n",
    "% DEFINE LOADS AND SUPPORTS (HALF MBB-BEAM)\n",
    "F = sparse(2,1,-1,2*(nely+1)*(nelx+1),1);\n",
    "U = zeros(2*(nely+1)*(nelx+1),1);\n",
    "fixeddofs = union([1:2:2*(nely+1)],[2*(nelx+1)*(nely+1)]);\n",
    "alldofs = [1:2*(nely+1)*(nelx+1)];\n",
    "freedofs = setdiff(alldofs,fixeddofs);\n",
    "%% PREPARE FILTER\n",
    "iH = ones(nelx*nely*(2*(ceil(rmin)-1)+1)^2,1);\n",
    "jH = ones(size(iH));\n",
    "sH = zeros(size(iH));\n",
    "k = 0;\n",
    "for i1 = 1:nelx\n",
    "  for j1 = 1:nely\n",
    "    e1 = (i1-1)*nely+j1;\n",
    "    for i2 = max(i1-(ceil(rmin)-1),1):min(i1+(ceil(rmin)-1),nelx)\n",
    "      for j2 = max(j1-(ceil(rmin)-1),1):min(j1+(ceil(rmin)-1),nely)\n",
    "        e2 = (i2-1)*nely+j2;\n",
    "        k = k+1;\n",
    "        iH(k) = e1;\n",
    "        jH(k) = e2;\n",
    "        sH(k) = max(0,rmin-sqrt((i1-i2)^2+(j1-j2)^2));\n",
    "      end\n",
    "    end\n",
    "  end\n",
    "end\n",
    "H = sparse(iH,jH,sH);\n",
    "Hs = sum(H,2);\n",
    "%% INITIALIZE ITERATION\n",
    "x = repmat(volfrac,nely,nelx);\n",
    "xPhys = x;\n",
    "loop = 0;\n",
    "change = 1;\n",
    "%% START ITERATION\n",
    "while change > 0.01\n",
    "  loop = loop + 1;\n",
    "  %% FE-ANALYSIS\n",
    "  sK = reshape(KE(:)*(Emin+xPhys(:)'.^penal*(E0-Emin)),64*nelx*nely,1);\n",
    "  K = sparse(iK,jK,sK); K = (K+K')/2;\n",
    "  U(freedofs) = K(freedofs,freedofs)\\F(freedofs);\n",
    "  %% OBJECTIVE FUNCTION AND SENSITIVITY ANALYSIS\n",
    "  ce = reshape(sum((U(edofMat)*KE).*U(edofMat),2),nely,nelx);\n",
    "  c = sum(sum((Emin+xPhys.^penal*(E0-Emin)).*ce));\n",
    "  dc = -penal*(E0-Emin)*xPhys.^(penal-1).*ce;\n",
    "  dv = ones(nely,nelx);\n",
    "  %% FILTERING/MODIFICATION OF SENSITIVITIES\n",
    "  if ft == 1\n",
    "    dc(:) = H*(x(:).*dc(:))./Hs./max(1e-3,x(:));\n",
    "  elseif ft == 2\n",
    "    dc(:) = H*(dc(:)./Hs);\n",
    "    dv(:) = H*(dv(:)./Hs); %dv est dc filtre\n",
    "  end\n",
    "  %% OPTIMALITY CRITERIA UPDATE OF DESIGN VARIABLES AND PHYSICAL DENSITIES\n",
    "  l1 = 0; l2 = 1e9; move = 0.2;\n",
    "  while (l2-l1)/(l1+l2) > 1e-3\n",
    "    lmid = 0.5*(l2+l1);\n",
    "    xnew = max(0,max(x-move,min(1,min(x+move,x.*sqrt(-dc./dv/lmid)))));\n",
    "    if ft == 1\n",
    "      xPhys = xnew;\n",
    "    elseif ft == 2\n",
    "      xPhys(:) = (H*xnew(:))./Hs;\n",
    "    end\n",
    "    if sum(xPhys(:)) > volfrac*nelx*nely, l1 = lmid; else l2 = lmid; end\n",
    "  end\n",
    "  change = max(abs(xnew(:)-x(:)));\n",
    "  x = xnew;\n",
    "  %% PRINT RESULTS\n",
    "  fprintf(' It.:%5i Obj.:%11.4f Vol.:%7.3f ch.:%7.3f\\n',loop,c, ... \n",
    "    mean(xPhys(:)),change);\n",
    "  %% PLOT DENSITIES\n",
    "  colormap(gray); imagesc(1-xPhys); caxis([0 1]); axis equal; axis off; drawnow;\n",
    "end\n",
    "%"
   ]
  }
 ],
 "metadata": {
  "kernelspec": {
   "display_name": "Julia 1.3.1",
   "language": "julia",
   "name": "julia-1.3"
  },
  "language_info": {
   "file_extension": ".jl",
   "mimetype": "application/julia",
   "name": "julia",
   "version": "1.3.1"
  }
 },
 "nbformat": 4,
 "nbformat_minor": 4
}

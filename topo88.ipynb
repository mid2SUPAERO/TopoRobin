{
 "cells": [
  {
   "cell_type": "code",
   "execution_count": 1,
   "metadata": {},
   "outputs": [],
   "source": [
    "# code optimisation topologique topo88"
   ]
  },
  {
   "cell_type": "code",
   "execution_count": 1,
   "metadata": {},
   "outputs": [
    {
     "name": "stderr",
     "output_type": "stream",
     "text": [
      "┌ Info: Precompiling Images [916415d5-f1e6-5110-898d-aaa5f9f070e0]\n",
      "└ @ Base loading.jl:1273\n",
      "WARNING: ImageQualityIndexes.psnr is deprecated, use assess_psnr instead.\n",
      "  likely near C:\\Users\\robin\\.julia\\packages\\Images\\RUVAg\\src\\Images.jl:60\n",
      "┌ Info: Precompiling ImageView [86fae568-95e7-573e-a6b2-d8a6b900c9ef]\n",
      "└ @ Base loading.jl:1273\n",
      "┌ Warning: You are using Gtk on Windows which is currently not recommended. Your REPL/IDE and anything depending on task switches will become sluggish and much slower (up to ~85x slower).\n",
      "└ @ Gtk C:\\Users\\robin\\.julia\\packages\\Gtk\\X3A4U\\src\\Gtk.jl:74\n",
      "┌ Warning: You are using Gtk on Windows which is currently not recommended. Your REPL/IDE and anything depending on task switches will become sluggish and much slower (up to ~85x slower).\n",
      "└ @ Gtk C:\\Users\\robin\\.julia\\packages\\Gtk\\X3A4U\\src\\Gtk.jl:74\n",
      "┌ Info: Precompiling TestImages [5e47fb64-e119-507b-a336-dd2b206d9990]\n",
      "└ @ Base loading.jl:1273\n"
     ]
    },
    {
     "data": {
      "text/plain": [
       "ldiv! (generic function with 120 methods)"
      ]
     },
     "execution_count": 1,
     "metadata": {},
     "output_type": "execute_result"
    }
   ],
   "source": [
    "using SparseArrays\n",
    "using LinearAlgebra\n",
    "using Images, ImageView, TestImages\n",
    "using Statistics\n",
    "using SuiteSparse\n",
    "E0 = 1;\n",
    "Emin = 1e-9;\n",
    "nu = 0.3;\n",
    "\n",
    "ldiv!"
   ]
  },
  {
   "cell_type": "code",
   "execution_count": 5,
   "metadata": {},
   "outputs": [
    {
     "data": {
      "text/plain": [
       "top88 (generic function with 1 method)"
      ]
     },
     "execution_count": 5,
     "metadata": {},
     "output_type": "execute_result"
    }
   ],
   "source": [
    "function top88(nelx,nely,volfrac,penal,rmin,ft)\n",
    "        \n",
    "    A11 = [12  3 -6 -3;  3 12  3  0; -6  3 12 -3; -3  0 -3 12]\n",
    "    A12 = [-6 -3  0  3; -3 -6 -3 -6;  0 -3 -6  3;  3 -6  3 -6]\n",
    "    B11 = [-4  3 -2  9;  3 -4 -9  4; -2 -9 -4 -3;  9  4 -3 -4]\n",
    "    B12 = [ 2 -3  4 -9; -3  2  9 -2;  4  9  2  3; -9 -2  3  2]\n",
    "    KE = 1/(1-nu^2)/24*([A11 A12;A12' A11]+nu*[B11 B12;B12' B11])\n",
    "\n",
    "    nodenrs = reshape(1:(1+nelx)*(1+nely),1+nely,1+nelx); #number of the nodes in columns\n",
    "    edofVec = reshape(2*nodenrs[1:end-1,1:end-1].+1,nelx*nely,1) ;#1st dof of each element (x top left)\n",
    "    edofMat = zeros(nelx*nely, 8); #every line i contains the 8 dof of the ith element\n",
    "    noeudsvoisins = [0 1 2*nely.+[2 3 0 1] -2 -1];\n",
    "    for i = 1:8\n",
    "        for j = 1:nelx*nely\n",
    "            edofMat[j,i]= edofVec[j]+ noeudsvoisins[i] ;\n",
    "        end\n",
    "    end\n",
    "    #maillage\n",
    "    iK = reshape(kron(edofMat,ones(8,1))',64*nelx*nely,1);# line to build  K\n",
    "    jK = reshape(kron(edofMat,ones(1,8))',64*nelx*nely,1);# columns\n",
    "    F = spzeros(2*(nely+1)*(nelx+1),1); F[2,1] = -1;\n",
    "    U = zeros(2*(nely+1)*(nelx+1),1);\n",
    "    fixeddofs = union(1:2:2*(nely+1),[2*(nelx+1)*(nely+1)]);\n",
    "    alldofs = 1:2*(nely+1)*(nelx+1);\n",
    "    freedofs = setdiff(alldofs,fixeddofs);\n",
    "    #filtering is linear + chain's rule -> matricial opration with operator H\n",
    "    iH = ones(nelx*nely*(2*(ceil(rmin)-1)+1)^2);#lines H\n",
    "    jH = ones(size(iH));# columns\n",
    "    sH = zeros(size(iH));# values\n",
    "    k = 0;\n",
    "    for i1 = 1:nelx\n",
    "        for j1 = 1:nely\n",
    "            e1 = (i1-1)*nely+j1;\n",
    "            for i2 = max(i1-(ceil(rmin)-1),1):min(i1+(ceil(rmin)-1),nelx)\n",
    "                for j2 = max(j1-(ceil(rmin)-1),1):min(j1+(ceil(rmin)-1),nely)\n",
    "                    e2 = (i2-1)*nely+j2;\n",
    "                    k = k+1;\n",
    "                    iH[k] = e1;\n",
    "                    jH[k] = e2;\n",
    "                    sH[k] = max(0,rmin-sqrt((i1-i2)^2+(j1-j2)^2));\n",
    "                end\n",
    "            end\n",
    "        end\n",
    "    end\n",
    "    H = sparse(iH,jH,sH);# matrix of the Hei\n",
    "    Hs = [sum(H[i,:]) for i = 1:(size(H)[1])];# sum of the Hei for e fixed -> coeffs used to divide in the filter\n",
    "    #variables\n",
    "    x = volfrac*ones(nely,nelx);\n",
    "    xPhys = x;#new variable for the density filter\n",
    "    loop = 0;\n",
    "    change = 1;\n",
    "    while change > 0.01\n",
    "        loop = loop + 1;\n",
    "        sK = [j*((i+Emin)^penal) for i in ((E0-Emin)*xPhys[:]') for j in KE[:] ];#new values EF\n",
    "        K = sparse(iK[:],jK[:],sK); K = (K+K')/2;# obligate to be symmetric\n",
    "        KK = cholesky(K[freedofs,freedofs]);\n",
    "        U[freedofs] = KK\\(KK'\\F[freedofs]);\n",
    "        \n",
    "        # analyse, objective function\n",
    "        edM = [convert(Int64,i) for i in edofMat] ;#to index by int\n",
    "        mat = (U[edM]*KE).*U[edM];\n",
    "        ce = reshape([sum(mat[i,:]) for i = 1:(size(mat)[1])],nely,nelx);\n",
    "        c = sum(sum((Emin*ones(size(xPhys)).+(xPhys.^penal)*(E0-Emin)).*ce));\n",
    "        dc = -penal*(E0-Emin)*xPhys.^(penal-1).*ce;\n",
    "        dv = ones(nely,nelx);\n",
    "        \n",
    "        #filtering\n",
    "        if ft == 1\n",
    "            dc[:] = H*(x[:].*dc[:])./Hs./max(1e-3,maximum(x[:]));\n",
    "        elseif ft == 2\n",
    "            dc[:] = H*(dc[:]./Hs);\n",
    "            dv[:] = H*(dv[:]./Hs);\n",
    "        end\n",
    "        \n",
    "        #Lagrangian multiplicators research, upload of the density x\n",
    "        l1 = 0; l2 = 1e9; move = 0.2;\n",
    "        xnew = zeros(nely, nelx);\n",
    "        while (l2-l1)/(l1+l2) > 1e-3\n",
    "            lmid = 0.5*(l2+l1);\n",
    "            RacBe = sqrt.(-dc./dv/lmid) ;\n",
    "            XB = x.*RacBe ;\n",
    "            for i = 1:nelx\n",
    "                for j = 1:nely\n",
    "                    xji = x[j,i];\n",
    "                    xnew[j,i]= max(0.001,max(xji-move,min(1,min(xji+move,XB[j,i]))));\n",
    "                end\n",
    "            end  \n",
    "            if ft == 1\n",
    "                xPhys = xnew;\n",
    "            elseif ft == 2 # if we choose the density filter\n",
    "                xPhys[:] = (H*xnew[:])./Hs;\n",
    "            end\n",
    "                if sum(xPhys[:]) > volfrac*nelx*nely\n",
    "                    l1 = lmid;\n",
    "                else \n",
    "                    l2 = lmid; \n",
    "                end\n",
    "            end\n",
    "        change = maximum(abs.(x-xnew));\n",
    "        x = xnew;\n",
    "        println(\"loop = \", loop, \"Change = \", change ,\" c = \", c , \" densité struct = \", mean(x) )\n",
    "        ImageView.imshow(x)\n",
    "        if loop == 50\n",
    "            return\n",
    "        end\n",
    "    end\n",
    "end"
   ]
  },
  {
   "cell_type": "code",
   "execution_count": null,
   "metadata": {},
   "outputs": [
    {
     "name": "stdout",
     "output_type": "stream",
     "text": [
      "loop = 1Change = 0.2 c = 4.557158592763547e15 densité struct = 0.4499389913835808\n",
      "loop = 2Change = 0.2 c = 2.297426366689829e13 densité struct = 0.6433572950333589\n",
      "loop = 3Change = 0.20000000000000007 c = 8.396243338845715e11 densité struct = 0.6589974903412812\n",
      "loop = 4Change = 0.20000000000000007 c = 1.5795450294682513e11 densité struct = 0.4748901434074018\n",
      "loop = 5Change = 0.20000000000000007 c = 1.1754008904508867e12 densité struct = 0.5242953180250962\n",
      "loop = 6Change = 0.20000000000000007 c = 1.7726832821141766e11 densité struct = 0.3584965736302375\n",
      "loop = 7Change = 0.20000000000000007 c = 9.917175833755541e12 densité struct = 0.46741841102533394\n",
      "loop = 8Change = 0.20000000000000007 c = 2.528821845369778e11 densité struct = 0.33220665745464734\n",
      "loop = 9Change = 0.20000000000000007 c = 1.153199651547296e13 densité struct = 0.45270526631396363\n",
      "loop = 10Change = 0.20000000000000007 c = 2.9642611035523694e11 densité struct = 0.3404484487114014\n",
      "loop = 11Change = 0.20000000000000007 c = 2.3516735070588414e13 densité struct = 0.4321763103543281\n",
      "loop = 12Change = 0.20000000000000007 c = 1.6710152733642163e11 densité struct = 0.29925293460775915\n",
      "loop = 13Change = 0.20000000000000007 c = 4.114569963161445e13 densité struct = 0.4443026771234299\n",
      "loop = 14Change = 0.20000000000000007 c = 2.507635898736954e11 densité struct = 0.32612076896802267\n",
      "loop = 15Change = 0.20000000000000007 c = 2.034276249255707e13 densité struct = 0.4422668945268464\n",
      "loop = 16Change = 0.20000000000000007 c = 2.6170684613509967e11 densité struct = 0.33026956467656776\n",
      "loop = 17Change = 0.20000000000000007 c = 1.7243745610156531e13 densité struct = 0.44113390896586085\n",
      "loop = 18Change = 0.20000000000000007 c = 2.1888434486763544e11 densité struct = 0.32143328408787375\n",
      "loop = 19Change = 0.20000000000000007 c = 2.3806319261582574e13 densité struct = 0.441060003728429\n",
      "loop = 20Change = 0.2 c = 2.0249914909599692e11 densité struct = 0.31809873007127365\n",
      "loop = 21Change = 0.20000000000000007 c = 2.5491872871015438e13 densité struct = 0.4403601413126459\n",
      "loop = 22Change = 0.2 c = 2.0254519958788562e11 densité struct = 0.3182493744505598\n",
      "loop = 23Change = 0.20000000000000007 c = 2.478817213661448e13 densité struct = 0.4389002762955615\n",
      "loop = 24Change = 0.20000000000000007 c = 2.072920820098001e11 densité struct = 0.31869851889182876\n",
      "loop = 25Change = 0.20000000000000007 c = 2.3689339343968547e13 densité struct = 0.4377112924936283\n",
      "loop = 26Change = 0.20000000000000007 c = 2.1187012076661688e11 densité struct = 0.31897730922128353\n",
      "loop = 27Change = 0.20000000000000007 c = 2.2891596167239473e13 densité struct = 0.4371789263171717\n",
      "loop = 28Change = 0.2 c = 2.1281806766719952e11 densité struct = 0.31877448227181\n",
      "loop = 29Change = 0.20000000000000007 c = 2.2476512883217527e13 densité struct = 0.4372830519001444\n",
      "loop = 30Change = 0.20000000000000007 c = 2.0761830750750635e11 densité struct = 0.3174614583414611\n",
      "loop = 31Change = 0.20000000000000007 c = 2.2959473120565645e13 densité struct = 0.43769681374995584\n",
      "loop = 32Change = 0.2 c = 2.0155429358790894e11 densité struct = 0.31628077695582646\n",
      "loop = 33Change = 0.20000000000000007 c = 2.3349830027229605e13 densité struct = 0.4375688237008703\n",
      "loop = 34Change = 0.2 c = 2.0136802381313885e11 densité struct = 0.31599555426719605\n",
      "loop = 35Change = 0.20000000000000007 c = 2.3768219967155855e13 densité struct = 0.437154285389081\n",
      "loop = 36Change = 0.2 c = 2.022632553561195e11 densité struct = 0.3160204454275888\n",
      "loop = 37Change = 0.20000000000000007 c = 2.3659507365576645e13 densité struct = 0.4367671836230106\n",
      "loop = 38Change = 0.2 c = 2.0328613959564484e11"
     ]
    }
   ],
   "source": [
    "top88(50,33,0.25, 3,2, 1)"
   ]
  },
  {
   "cell_type": "code",
   "execution_count": 1,
   "metadata": {},
   "outputs": [
    {
     "ename": "LoadError",
     "evalue": "syntax: invalid escape sequence",
     "output_type": "error",
     "traceback": [
      "syntax: invalid escape sequence",
      ""
     ]
    }
   ],
   "source": [
    "#code original\n",
    "\"\"\"\n",
    "%%%% AN 88 LINE TOPOLOGY OPTIMIZATION CODE Nov, 2010 %%%%\n",
    "function top88(nelx,nely,volfrac,penal,rmin,ft)\n",
    "%% MATERIAL PROPERTIES\n",
    "E0 = 1;\n",
    "Emin = 1e-9;\n",
    "nu = 0.3;\n",
    "%% PREPARE FINITE ELEMENT ANALYSIS\n",
    "A11 = [12  3 -6 -3;  3 12  3  0; -6  3 12 -3; -3  0 -3 12];\n",
    "A12 = [-6 -3  0  3; -3 -6 -3 -6;  0 -3 -6  3;  3 -6  3 -6];\n",
    "B11 = [-4  3 -2  9;  3 -4 -9  4; -2 -9 -4 -3;  9  4 -3 -4];\n",
    "B12 = [ 2 -3  4 -9; -3  2  9 -2;  4  9  2  3; -9 -2  3  2];\n",
    "KE = 1/(1-nu^2)/24*([A11 A12;A12' A11]+nu*[B11 B12;B12' B11]);\n",
    "nodenrs = reshape(1:(1+nelx)*(1+nely),1+nely,1+nelx);\n",
    "edofVec = reshape(2*nodenrs(1:end-1,1:end-1)+1,nelx*nely,1);\n",
    "edofMat = repmat(edofVec,1,8)+repmat([0 1 2*nely+[2 3 0 1] -2 -1],nelx*nely,1);\n",
    "iK = reshape(kron(edofMat,ones(8,1))',64*nelx*nely,1);\n",
    "jK = reshape(kron(edofMat,ones(1,8))',64*nelx*nely,1);\n",
    "% DEFINE LOADS AND SUPPORTS (HALF MBB-BEAM)\n",
    "F = sparse(2,1,-1,2*(nely+1)*(nelx+1),1);\n",
    "U = zeros(2*(nely+1)*(nelx+1),1);\n",
    "fixeddofs = union([1:2:2*(nely+1)],[2*(nelx+1)*(nely+1)]);\n",
    "alldofs = [1:2*(nely+1)*(nelx+1)];\n",
    "freedofs = setdiff(alldofs,fixeddofs);\n",
    "%% PREPARE FILTER\n",
    "iH = ones(nelx*nely*(2*(ceil(rmin)-1)+1)^2,1);\n",
    "jH = ones(size(iH));\n",
    "sH = zeros(size(iH));\n",
    "k = 0;\n",
    "for i1 = 1:nelx\n",
    "  for j1 = 1:nely\n",
    "    e1 = (i1-1)*nely+j1;\n",
    "    for i2 = max(i1-(ceil(rmin)-1),1):min(i1+(ceil(rmin)-1),nelx)\n",
    "      for j2 = max(j1-(ceil(rmin)-1),1):min(j1+(ceil(rmin)-1),nely)\n",
    "        e2 = (i2-1)*nely+j2;\n",
    "        k = k+1;\n",
    "        iH(k) = e1;\n",
    "        jH(k) = e2;\n",
    "        sH(k) = max(0,rmin-sqrt((i1-i2)^2+(j1-j2)^2));\n",
    "      end\n",
    "    end\n",
    "  end\n",
    "end\n",
    "H = sparse(iH,jH,sH);\n",
    "Hs = sum(H,2);\n",
    "%% INITIALIZE ITERATION\n",
    "x = repmat(volfrac,nely,nelx);\n",
    "xPhys = x;\n",
    "loop = 0;\n",
    "change = 1;\n",
    "%% START ITERATION\n",
    "while change > 0.01\n",
    "  loop = loop + 1;\n",
    "  %% FE-ANALYSIS\n",
    "  sK = reshape(KE(:)*(Emin+xPhys(:)'.^penal*(E0-Emin)),64*nelx*nely,1);\n",
    "  K = sparse(iK,jK,sK); K = (K+K')/2;\n",
    "  U(freedofs) = K(freedofs,freedofs)\\F(freedofs);\n",
    "  %% OBJECTIVE FUNCTION AND SENSITIVITY ANALYSIS\n",
    "  ce = reshape(sum((U(edofMat)*KE).*U(edofMat),2),nely,nelx);\n",
    "  c = sum(sum((Emin+xPhys.^penal*(E0-Emin)).*ce));\n",
    "  dc = -penal*(E0-Emin)*xPhys.^(penal-1).*ce;\n",
    "  dv = ones(nely,nelx);\n",
    "  %% FILTERING/MODIFICATION OF SENSITIVITIES\n",
    "  if ft == 1\n",
    "    dc(:) = H*(x(:).*dc(:))./Hs./max(1e-3,x(:));\n",
    "  elseif ft == 2\n",
    "    dc(:) = H*(dc(:)./Hs);\n",
    "    dv(:) = H*(dv(:)./Hs); %dv est dc filtre\n",
    "  end\n",
    "  %% OPTIMALITY CRITERIA UPDATE OF DESIGN VARIABLES AND PHYSICAL DENSITIES\n",
    "  l1 = 0; l2 = 1e9; move = 0.2;\n",
    "  while (l2-l1)/(l1+l2) > 1e-3\n",
    "    lmid = 0.5*(l2+l1);\n",
    "    xnew = max(0,max(x-move,min(1,min(x+move,x.*sqrt(-dc./dv/lmid)))));\n",
    "    if ft == 1\n",
    "      xPhys = xnew;\n",
    "    elseif ft == 2\n",
    "      xPhys(:) = (H*xnew(:))./Hs;\n",
    "    end\n",
    "    if sum(xPhys(:)) > volfrac*nelx*nely, l1 = lmid; else l2 = lmid; end\n",
    "  end\n",
    "  change = max(abs(xnew(:)-x(:)));\n",
    "  x = xnew;\n",
    "  %% PRINT RESULTS\n",
    "  fprintf(' It.:%5i Obj.:%11.4f Vol.:%7.3f ch.:%7.3f\\n',loop,c, ... \n",
    "    mean(xPhys(:)),change);\n",
    "  %% PLOT DENSITIES\n",
    "  colormap(gray); imagesc(1-xPhys); caxis([0 1]); axis equal; axis off; drawnow;\n",
    "end\n",
    "%\n",
    "\"\"\""
   ]
  },
  {
   "cell_type": "code",
   "execution_count": 16,
   "metadata": {},
   "outputs": [
    {
     "ename": "ErrorException",
     "evalue": "error compiling _plot!: error compiling _display: could not load library \"libGR.dll\"\n",
     "output_type": "error",
     "traceback": [
      "error compiling _plot!: error compiling _display: could not load library \"libGR.dll\"\n",
      "",
      "Stacktrace:",
      " [1] #plot#135(::Base.Iterators.Pairs{Symbol,Any,Tuple{Symbol,Symbol},NamedTuple{(:c, :seriestype),Tuple{ColorGradient,Symbol}}}, ::typeof(plot), ::Array{Int64,2}) at C:\\Users\\robin\\.julia\\packages\\Plots\\cc8wh\\src\\plot.jl:57",
      " [2] (::Plots.var\"#kw##heatmap\")(::NamedTuple{(:c,),Tuple{ColorGradient}}, ::typeof(heatmap), ::Array{Int64,2}) at .\\none:0",
      " [3] top-level scope at In[16]:6"
     ]
    }
   ],
   "source": [
    "\n",
    "using Plots\n",
    "\n",
    "A = [i for i=1:100, j=1:100]\n",
    "\n",
    "heatmap(A, c=ColorGradient([:red,:yellow,:blue]))"
   ]
  },
  {
   "cell_type": "code",
   "execution_count": 15,
   "metadata": {},
   "outputs": [
    {
     "data": {
      "text/plain": [
       "\"\""
      ]
     },
     "execution_count": 15,
     "metadata": {},
     "output_type": "execute_result"
    }
   ],
   "source": [
    "Pkg.build(\"GR\")\n",
    "using Plots\n",
    "ENV[\"GRDIR\"]"
   ]
  }
 ],
 "metadata": {
  "kernelspec": {
   "display_name": "Julia 1.3.1",
   "language": "julia",
   "name": "julia-1.3"
  },
  "language_info": {
   "file_extension": ".jl",
   "mimetype": "application/julia",
   "name": "julia",
   "version": "1.3.1"
  }
 },
 "nbformat": 4,
 "nbformat_minor": 4
}

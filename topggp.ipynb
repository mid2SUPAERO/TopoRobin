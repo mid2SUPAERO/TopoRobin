{
 "cells": [
  {
   "cell_type": "code",
   "execution_count": 1,
   "metadata": {},
   "outputs": [],
   "source": [
    "using SparseArrays\n",
    "using LinearAlgebra\n",
    "using Plots\n",
    "using Statistics\n",
    "using SuiteSparse"
   ]
  },
  {
   "cell_type": "code",
   "execution_count": null,
   "metadata": {},
   "outputs": [],
   "source": [
    "function topggp(nelx,nely,volfrac = 0.5,settings = 'GGP' ,maxiteration = 25)\n",
    "    starting_guess = 'Crosses'\n",
    "    E=1\n",
    "    nu=0.3\n",
    "    E0 = 1;\n",
    "    Emin = 1e-6\n",
    "    A11 = [12  3 -6 -3;  3 12  3  0; -6  3 12 -3; -3  0 -3 12]\n",
    "    A12 = [-6 -3  0  3; -3 -6 -3 -6;  0 -3 -6  3;  3 -6  3 -6]\n",
    "    B11 = [-4  3 -2  9;  3 -4 -9  4; -2 -9 -4 -3;  9  4 -3 -4]\n",
    "    B12 = [ 2 -3  4 -9; -3  2  9 -2;  4  9  2  3; -9 -2  3  2]\n",
    "    KE = 1/(1-nu^2)/24*([A11 A12;A12' A11]+nu*[B11 B12;B12' B11])\n",
    "\n",
    "    nodenrs = reshape(1:(1+nelx)*(1+nely),1+nely,1+nelx); #number of the nodes in columns\n",
    "    edofVec = reshape(2*nodenrs[1:end-1,1:end-1].+1,nelx*nely,1) ;#1st dof of each element (x top left)\n",
    "    edofMat = zeros(nelx*nely, 8); #every line i contains the 8 dof of the ith element\n",
    "    noeudsvoisins = [0 1 2*nely.+[2 3 0 1] -2 -1];\n",
    "    for i = 1:8\n",
    "        for j = 1:nelx*nely\n",
    "            edofMat[j,i]= edofVec[j]+ noeudsvoisins[i] ;\n",
    "        end\n",
    "    end\n",
    "    iK = reshape(kron(edofMat,ones(8,1))',64*nelx*nely,1);# line to build  K\n",
    "    jK = reshape(kron(edofMat,ones(1,8))',64*nelx*nely,1);# columns\n",
    "    \n",
    "        # Define the nodal coordinates\n",
    "    x=0\n",
    "    Yy=zeros((nelx+1)*(nely+1))\n",
    "    Xx=zeros((nelx+1)*(nely+1))\n",
    "    for i = 1:(nelx+2)\n",
    "        for j = 1:(nely+2)\n",
    "            Yy[x]= j\n",
    "            Xx[x]= i\n",
    "            x+=1\n",
    "    Yy=nely+1-Yy\n",
    "    Xx=Xx-1\n",
    "    \n",
    "        # Compute the centroid coordinates\n",
    "    xc = zeros(nelx * nely)\n",
    "    yc = zeros(nelx * nely)\n",
    "    for xi = 1:nelx\n",
    "        xc[xi*nely:(xi+1)*nely]=xi+0.5\n",
    "    for yi = 1:nely\n",
    "        yc[yi:nely:(nelx*nely)]=yi+0.5\n",
    "    yc = nely - yc\n",
    "                    \n",
    "    centroid_coordinate=[ [xc[i],yc[i]] for i in 1:len(xc) ]\n",
    "    a=-R #R défini dans les if du debut-> rajouter apres\n",
    "    b=R\n",
    "    [gpc,wc]=lgwt(Ngp,a,b) #implémentée en bas\n",
    "    [gpcx,gpcy]=np.meshgrid(gpc,gpc)# à suivre...\n",
    "    gpcx=gpcx\n",
    "    gpcy=gpcy"
   ]
  },
  {
   "cell_type": "code",
   "execution_count": 211,
   "metadata": {},
   "outputs": [
    {
     "data": {
      "text/plain": [
       "lgwt (generic function with 1 method)"
      ]
     },
     "execution_count": 211,
     "metadata": {},
     "output_type": "execute_result"
    }
   ],
   "source": [
    "function lgwt(N,a,b)\n",
    "    # lgwt.m This script is for computing definite integrals using Legendre-Gauss Quadrature.Computes the Legendre - Gauss nodes and weights on an interval [a, b] with truncation order N\n",
    "    # Suppose you have a continuous function f(x) which is defined on[a, b]  which you can evaluate at any x in [a, b].Simply evaluate itat all of the values contained in the x vector to obtain a vector f.Then compute the definite integral using sum(f. * w);\n",
    "    # Written by Greg von Winckel - 02 / 25 / 2004\n",
    "    N = N - 1\n",
    "    N1 = N + 1\n",
    "    N2 = N + 2\n",
    "    xu = range(-1,stop =  1, length =N1)\n",
    "    xu = xu'\n",
    "\n",
    "    # Initial guess\n",
    "    y = cos.((2 * (0:N)'.+1)*pi/(2*N+2)).+(0.27/N1)*sin.(pi*xu*N/N2)\n",
    "    # Legendre-Gauss Vandermonde Matrix\n",
    "    L=zeros(N1, N2) # vu l'algo on pourrait avoir juste 2 variables vectorielles lk-1 et lk-2 pour moins de stockage\n",
    "\n",
    "    # Compute the zeros of the N + 1 Legendre Polynomial using the recursion relation and the Newton - Raphson method\n",
    "    y0 = 2\n",
    "    eps = 2.2204e-16\n",
    "    Lp = 0\n",
    "    # Iterate until new points are uniformly within epsilon of old points\n",
    "    while maximum(abs.(y .- y0)) > eps\n",
    "        L[:, 1].=1\n",
    "        L[:, 2]=y\n",
    "        for k = 3:N2\n",
    "            L[:, k]=((2*(k-1) -1 ) * y[:] .* L[:, k-1] - (k-2) * L[:, k-2] )/ (k-1) ; \n",
    "        end\n",
    "        Lp = N2 * (L[:, N1] - y[:] .* L[:, N2])./ (1 .- y[:].^2);\n",
    "        y0 = y\n",
    "        y = y0[:] .- L[:, N2]./ Lp[:];\n",
    "    end\n",
    "    # Linear map from [-1, 1] to[a, b]\n",
    "    x = (a * (1 .- y) + b * (1 .+ y)) / 2\n",
    "    # Compute the weights\n",
    "    w = (b - a) / ((1 .- y[:].^2) .* Lp[:].^2) * (N2 / N1)^2\n",
    "    return x, w , L\n",
    "end"
   ]
  },
  {
   "cell_type": "code",
   "execution_count": 212,
   "metadata": {},
   "outputs": [
    {
     "data": {
      "text/plain": [
       "3-element Array{Float64,1}:\n",
       " 6.887298334620742\n",
       " 6.5\n",
       " 6.112701665379259"
      ]
     },
     "execution_count": 212,
     "metadata": {},
     "output_type": "execute_result"
    }
   ],
   "source": [
    "x,w,l = lgwt(3,6,7)\n",
    "x"
   ]
  },
  {
   "cell_type": "code",
   "execution_count": null,
   "metadata": {},
   "outputs": [],
   "source": []
  }
 ],
 "metadata": {
  "kernelspec": {
   "display_name": "Julia 1.4.0",
   "language": "julia",
   "name": "julia-1.4"
  },
  "language_info": {
   "file_extension": ".jl",
   "mimetype": "application/julia",
   "name": "julia",
   "version": "1.4.0"
  }
 },
 "nbformat": 4,
 "nbformat_minor": 4
}

{
 "cells": [
  {
   "cell_type": "code",
   "execution_count": 72,
   "metadata": {},
   "outputs": [],
   "source": [
    "## Réécriture en Julia du code top99 de OLE SIGMUND\n",
    "using SparseArrays\n",
    "# que 2 ddl considérés : x et y\n",
    "# propriétés du matériau \n",
    "E = 1.; \n",
    "nu = 0.3;\n",
    "k=[ 1/2-nu/6   1/8+nu/8 -1/4-nu/12 -1/8+3*nu/8 -1/4+nu/12 -1/8-nu/8  nu/6  1/8-3*nu/8];\n",
    "#matrice de rigidité élémentaire pour 1 élément\n",
    "KE = E/(1-nu^2)*[ k[1] k[2] k[3] k[4] k[5] k[6] k[7] k[8];\n",
    "                  k[2] k[1] k[8] k[7] k[6] k[5] k[4] k[3];\n",
    "                  k[3] k[8] k[1] k[6] k[7] k[4] k[5] k[2];\n",
    "                  k[4] k[7] k[6] k[1] k[8] k[3] k[2] k[5];\n",
    "                  k[5] k[6] k[7] k[8] k[1] k[2] k[3] k[4];\n",
    "                  k[6] k[5] k[4] k[3] k[2] k[1] k[8] k[7];\n",
    "                  k[7] k[4] k[5] k[2] k[3] k[8] k[1] k[6];\n",
    "                  k[8] k[3] k[2] k[5] k[4] k[7] k[6] k[1]];\n"
   ]
  },
  {
   "cell_type": "code",
   "execution_count": 73,
   "metadata": {},
   "outputs": [
    {
     "data": {
      "text/plain": [
       "top (generic function with 1 method)"
      ]
     },
     "execution_count": 73,
     "metadata": {},
     "output_type": "execute_result"
    }
   ],
   "source": [
    "function top(nelx,nely,volfrac,penal,rmin)\n",
    "    \n",
    "    # Effort appliqué. F[2,1] = -1 -> sur le ddl 2 (y) du premier pixel (en haut à gauche ) on applique un effort de -1 ( donc vers le haut)\n",
    "    ddl = 2*(nely+1)*(nelx+1)\n",
    "    #F = spzeros(ddl);\n",
    "    F= zeros(ddl);\n",
    "    F[2] = -1; # modifier pour s'amuser plus tard\n",
    "    \n",
    "    #noeuds fixés et libres ( ici moitié de poutre MBB)    \n",
    "    fixeddofs   = union(1:2:2*(nely+1),[ddl]); #noeuds fixes, on fixe artificiellement x des noeuds à gauche pour la symétrie, on fixe y pour le noeud en bas à droite\n",
    "    alldofs     = 1:ddl;\n",
    "    freedofs    = setdiff(alldofs,fixeddofs);\n",
    "    \n",
    "    x = volfrac * ones(nely,nelx) ; #répartition uniforme de la masse\n",
    "    loop = 0; \n",
    "    change = 1.; #arbitraire, pour commencer la boucle\n",
    "    dc = zeros(nely,nelx);\n",
    "    while change > 0.01  \n",
    "        loop += 1;\n",
    "        xold = x; # x old est l'ancienne répartition de la matière        \n",
    "        c = 0.; # fonction objectif : Edéformation\n",
    "        U = FE(nelx,nely,x,penal, freedofs, fixeddofs,F);\n",
    "        for ely = 1:nely\n",
    "            for elx = 1:nelx\n",
    "                n1 = (nely+1)*(elx-1)+ely; \n",
    "                n2 = (nely+1)* elx   +ely;\n",
    "                Ue = append!([U[2*n1-1]],append!([U[2*n1]],append!([U[2*n2-1]],append!([U[2*n2]],append!([U[2*n2+1]],append!([U[2*n2+2]],append!([U[2*n1+1]],[U[2*n1+2]]))))))); #les 4 noeuds de l'élem selon x et y\n",
    "                c = c + x[ely,elx]^penal*Ue'*KE*Ue; # participation élémentaire à Edéf \n",
    "                dc[ely,elx] = -penal*x[ely,elx]^(penal-1)*Ue'*KE*Ue; # dc/dx (Xe)\n",
    "            end\n",
    "        end\n",
    "        dc = check(nelx,nely,rmin,x,dc);\n",
    "        x  = OC(nelx,nely,x,volfrac,dc);\n",
    "        change = maximum(abs.(x-xold));\n",
    "        println(\"change = \", change);\n",
    "        if loop==50\n",
    "            return x\n",
    "        end\n",
    "    end\n",
    "    return x\n",
    "end"
   ]
  },
  {
   "cell_type": "code",
   "execution_count": 74,
   "metadata": {},
   "outputs": [
    {
     "data": {
      "text/plain": [
       "OC (generic function with 1 method)"
      ]
     },
     "execution_count": 74,
     "metadata": {},
     "output_type": "execute_result"
    }
   ],
   "source": [
    "function OC(nelx,nely,x,volfrac,dc)  # nouvelle répartition de masse\n",
    "    l1 = 0; l2 = 100000; move = 0.2;\n",
    "    xnew = zeros(nely,nelx);    \n",
    "    while (l2-l1 > 1e-4) #recherche par dichotomie du multiplicateur de Lagrange\n",
    "        lmid = 0.5*(l2+l1);\n",
    "        RacBe = sqrt.(-dc/lmid) ; # racine de Be = -dc/(l * dv) et Xe* Be^1/2# xnew € [x-move, x+move]\n",
    "        XB = x.*RacBe ;\n",
    "        for i = 1:nelx\n",
    "            for j = 1:nely\n",
    "                xji = x[j,i];\n",
    "                xnew[j,i]= max(0.001,max(xji-move,min(1,min(xji+move,XB[j,i]))));\n",
    "            end\n",
    "        end        \n",
    "        if sum(sum(xnew)) - volfrac*nelx*nely > 0;\n",
    "            l1 = lmid;\n",
    "        else\n",
    "            l2 = lmid;\n",
    "        end\n",
    "    end\n",
    "    return xnew\n",
    "end"
   ]
  },
  {
   "cell_type": "code",
   "execution_count": 75,
   "metadata": {},
   "outputs": [
    {
     "data": {
      "text/plain": [
       "FE (generic function with 2 methods)"
      ]
     },
     "execution_count": 75,
     "metadata": {},
     "output_type": "execute_result"
    }
   ],
   "source": [
    "function FE(nelx,nely,x,penal, freedofs, fixeddofs, F) #Création de la matrice de rigidité globale de la structure, Résolution des déplacements\n",
    "    K = spzeros(2*(nelx+1)*(nely+1), 2*(nelx+1)*(nely+1)); # matrice creuse de rigidité globale, le x2 car 2 ddl    \n",
    "    U = zeros(2*(nely+1)*(nelx+1));\n",
    "    for elx = 1:nelx\n",
    "      for ely = 1:nely #boucle sur tous les éléments\n",
    "        n1 = (nely+1)*(elx-1)+ely; #noeud en haut à gauche de l'elem \n",
    "        n2 = (nely+1)* elx   +ely; #en haut à droite\n",
    "        edof = [2*n1-1; 2*n1; 2*n2-1; 2*n2; 2*n2+1; 2*n2+2; 2*n1+1; 2*n1+2]; # les 2 ddl des 4 coins de l'élem\n",
    "        K[edof,edof] += x[ely,elx]^penal*KE; # c(x) = somme sur elem e( Xe^p * Ue' * KE * Ue), d'où K = (Xe^p*KE)e\n",
    "      end\n",
    "    end\n",
    "    U[freedofs] = K[freedofs,freedofs] \\ F[freedofs]; \n",
    "    U[fixeddofs] .= 0;\n",
    "    return U\n",
    "end"
   ]
  },
  {
   "cell_type": "code",
   "execution_count": 63,
   "metadata": {},
   "outputs": [
    {
     "data": {
      "text/plain": [
       "check (generic function with 1 method)"
      ]
     },
     "execution_count": 63,
     "metadata": {},
     "output_type": "execute_result"
    }
   ],
   "source": [
    "function check(nelx,nely,rmin,x,dc) # filtrage assurant l'existance d'une solution\n",
    "    dcn=zeros(nely,nelx); #dc/dx filtrée. Hf = Rmin - dist(e,f)\n",
    "    for i = 1:nelx\n",
    "      for j = 1:nely\n",
    "        sum=0.0;\n",
    "        for k = max(i-floor(rmin),1):min(i+floor(rmin),nelx)\n",
    "          for l = max(j-floor(rmin),1):min(j+floor(rmin),nely)\n",
    "            fac = rmin-sqrt((i-k)^2+(j-l)^2);\n",
    "            sum = sum+max(0,fac); \n",
    "            #println(fac);println(x[l,k]);println(dc[l,k]);\n",
    "            dcn[j,i] += max(0,fac)*x[l,k]*dc[l,k];\n",
    "          end\n",
    "        end\n",
    "        dcn[j,i] = dcn[j,i]/(x[j,i]*sum);\n",
    "      end\n",
    "    end\n",
    "    #println(dcn)\n",
    "    return dcn\n",
    "end"
   ]
  },
  {
   "cell_type": "code",
   "execution_count": 76,
   "metadata": {},
   "outputs": [
    {
     "name": "stdout",
     "output_type": "stream",
     "text": [
      "change = 0.2\n",
      "change = 0.20000000000000007\n",
      "change = 0.20000000000000007\n",
      "change = 0.20000000000000007\n",
      "change = 0.20000000000000007\n",
      "change = 0.20000000000000007\n",
      "change = 0.2\n",
      "change = 0.20000000000000007\n",
      "change = 0.20000000000000007\n",
      "change = 0.20000000000000007\n",
      "change = 0.20000000000000007\n",
      "change = 0.20000000000000007\n",
      "change = 0.20000000000000007\n",
      "change = 0.20000000000000007\n",
      "change = 0.20000000000000007\n",
      "change = 0.20000000000000007\n",
      "change = 0.20000000000000007\n",
      "change = 0.19999999999999996\n",
      "change = 0.17720034314087685\n",
      "change = 0.1484527313234414\n",
      "change = 0.13269882745613748\n",
      "change = 0.12129119670340138\n",
      "change = 0.12742764095830073\n",
      "change = 0.09700495486556515\n",
      "change = 0.08489979341910087\n",
      "change = 0.07150220498205118\n",
      "change = 0.06782950296000012\n",
      "change = 0.0661438977039095\n",
      "change = 0.059769866717107156\n",
      "change = 0.0576676028351093\n",
      "change = 0.05559775862076766\n",
      "change = 0.0551196695629349\n",
      "change = 0.052113683375049846\n",
      "change = 0.047102754256705626\n",
      "change = 0.04909597699988022\n",
      "change = 0.04475367771267347\n",
      "change = 0.04442310290694407\n",
      "change = 0.04182957671340748\n",
      "change = 0.04088739320500723\n",
      "change = 0.03943457151135055\n",
      "change = 0.03962392977265072\n",
      "change = 0.04074340890473449\n",
      "change = 0.039519393987511364\n",
      "change = 0.04023348370995605\n",
      "change = 0.04478090980420746\n",
      "change = 0.048909868464671935\n",
      "change = 0.057398982480060146\n",
      "change = 0.07223597529684078\n",
      "change = 0.09062724958366664\n",
      "change = 0.11341426372343749\n"
     ]
    },
    {
     "data": {
      "text/plain": [
       "Dict{String,Any} with 4 entries:\n",
       "  \"gui\"         => Dict{String,Any}(\"window\"=>GtkWindowLeaf(name=\"\", parent, wi…\n",
       "  \"roi\"         => Dict{String,Any}(\"redraw\"=>235: \"map(clim-mapped image, inpu…\n",
       "  \"annotations\" => 201: \"input-62\" = Dict{UInt64,Any}() Dict{UInt64,Any} \n",
       "  \"clim\"        => 200: \"CLim\" = CLim{Float64}(0.001, 1.0) CLim{Float64} "
      ]
     },
     "execution_count": 76,
     "metadata": {},
     "output_type": "execute_result"
    }
   ],
   "source": [
    "x = top(100,60,0.5,3,2);\n",
    "using Images, ImageView, TestImages\n",
    "ImageView.imshow(x)"
   ]
  },
  {
   "cell_type": "code",
   "execution_count": null,
   "metadata": {},
   "outputs": [],
   "source": []
  }
 ],
 "metadata": {
  "kernelspec": {
   "display_name": "Julia 1.3.1",
   "language": "julia",
   "name": "julia-1.3"
  },
  "language_info": {
   "file_extension": ".jl",
   "mimetype": "application/julia",
   "name": "julia",
   "version": "1.3.1"
  }
 },
 "nbformat": 4,
 "nbformat_minor": 4
}
